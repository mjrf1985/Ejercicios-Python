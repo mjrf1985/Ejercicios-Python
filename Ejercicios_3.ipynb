{
  "nbformat": 4,
  "nbformat_minor": 0,
  "metadata": {
    "colab": {
      "name": "Ejercicios_3.ipynb",
      "provenance": [],
      "authorship_tag": "ABX9TyPulDd2dyGrOCiWgdssKJIW",
      "include_colab_link": true
    },
    "kernelspec": {
      "name": "python3",
      "display_name": "Python 3"
    },
    "language_info": {
      "name": "python"
    }
  },
  "cells": [
    {
      "cell_type": "markdown",
      "metadata": {
        "id": "view-in-github",
        "colab_type": "text"
      },
      "source": [
        "<a href=\"https://colab.research.google.com/github/mjrf1985/Ejercicios-Python/blob/main/Ejercicios_3.ipynb\" target=\"_parent\"><img src=\"https://colab.research.google.com/assets/colab-badge.svg\" alt=\"Open In Colab\"/></a>"
      ]
    },
    {
      "cell_type": "markdown",
      "source": [
        "**Ejercicio 1**"
      ],
      "metadata": {
        "id": "EGxADSTOOWSk"
      }
    },
    {
      "cell_type": "code",
      "execution_count": null,
      "metadata": {
        "id": "iMMUzUmfORY7"
      },
      "outputs": [],
      "source": [
        "total = 0\n",
        "numero = int(input(\"Número: \"))\n",
        "while numero != 0:\n",
        "  total += numero\n",
        "  numero = int(input(\"Número: \"))\n",
        "print(\"Total:\", total)"
      ]
    },
    {
      "cell_type": "markdown",
      "source": [
        "**Ejercicio 2**"
      ],
      "metadata": {
        "id": "p1moSsELOn0A"
      }
    },
    {
      "cell_type": "code",
      "source": [
        "positivos = 0\n",
        "suma = 0\n",
        "numero = int(input(\"Ingrese 0 para terminar: \"))\n",
        "while numero != 0:\n",
        "    if numero > 0:\n",
        "      positivos += 1\n",
        "      suma += numero\n",
        "    numero = int(input(\"Ingrese 0 para terminar: \"))\n",
        "print(\"Suma de números positivos:\", suma)\n"
      ],
      "metadata": {
        "id": "qFdMUZ_3OvH-"
      },
      "execution_count": null,
      "outputs": []
    },
    {
      "cell_type": "markdown",
      "source": [
        "**Ejercicio 3**"
      ],
      "metadata": {
        "id": "oWfl_xfQOvlw"
      }
    },
    {
      "cell_type": "code",
      "source": [
        "mayor = 0\n",
        "numero = int(input(\"Ingrese un número, 0 para terminar: \"))\n",
        "while numero >= 1:\n",
        "   if numero > mayor:\n",
        "       mayor = numero\n",
        "   numero= int(input(\"Ingrese un número, 0 para terminar : \"))\n",
        "print(\"Número mas alto ingresado:\", mayor)"
      ],
      "metadata": {
        "id": "H9KZDSGeOxdD"
      },
      "execution_count": null,
      "outputs": []
    },
    {
      "cell_type": "markdown",
      "source": [
        "**Ejercicio 4**"
      ],
      "metadata": {
        "id": "4ZyhtrNsOxxS"
      }
    },
    {
      "cell_type": "code",
      "source": [
        "total = 0\n",
        "monto = float(input(\"Ingrese el valor de la compra (0 para terminar): $ \"))\n",
        "while monto != 0:\n",
        "    if monto < 0:\n",
        "        print(\"Valor no válido.\")\n",
        "    else:\n",
        "        total += monto\n",
        "    monto = float(input(\"Ingrese el valor de la compra (0 para terminar): $ \"))\n",
        "if total > 1000:\n",
        "    total -= total * 0.1\n",
        "    print(\"aplica 10% de descuento por compra arriba de $1000\")\n",
        "print(\"Total a pagar: $\", total)"
      ],
      "metadata": {
        "id": "nSIM8fXVOzIL"
      },
      "execution_count": null,
      "outputs": []
    },
    {
      "cell_type": "markdown",
      "source": [
        "**Ejercicio 5**"
      ],
      "metadata": {
        "id": "YHQDwsOOe_Lq"
      }
    },
    {
      "cell_type": "code",
      "source": [
        "frase = input(\"Ingrese una frase: \").strip()\n",
        "cantidad = 0\n",
        "len_p_mas_larga = 0\n",
        "while len(frase) != 0:\n",
        "    cantidad=cantidad+1\n",
        "    i=frase.find(\" \")\n",
        "    if i != -1:\n",
        "        palabra=frase[0:i]\n",
        "        while i < len(frase) and frase[i] == \" \":\n",
        "            i=i+1\n",
        "        frase=frase[i:]\n",
        "    else:\n",
        "        palabra=frase\n",
        "        frase = \"\"\n",
        "    if len(palabra) > len_p_mas_larga:\n",
        "        len_p_mas_larga=len(palabra)\n",
        "        p_mas_larga=palabra\n",
        "if cantidad > 0:\n",
        "    print(\"Palabra más larga:\", p_mas_larga)\n",
        "print(\"Cantidad de palabras:\", cantidad)"
      ],
      "metadata": {
        "id": "o9IwnZyDfDyE"
      },
      "execution_count": null,
      "outputs": []
    }
  ]
}