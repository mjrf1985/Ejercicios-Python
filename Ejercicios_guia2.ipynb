{
  "nbformat": 4,
  "nbformat_minor": 0,
  "metadata": {
    "colab": {
      "name": "Ejercicios guia2.ipynb",
      "provenance": [],
      "authorship_tag": "ABX9TyNdPjRu922jYjF82U1048VG",
      "include_colab_link": true
    },
    "kernelspec": {
      "name": "python3",
      "display_name": "Python 3"
    },
    "language_info": {
      "name": "python"
    }
  },
  "cells": [
    {
      "cell_type": "markdown",
      "metadata": {
        "id": "view-in-github",
        "colab_type": "text"
      },
      "source": [
        "<a href=\"https://colab.research.google.com/github/mjrf1985/Ejercicios-Python/blob/main/Ejercicios_guia2.ipynb\" target=\"_parent\"><img src=\"https://colab.research.google.com/assets/colab-badge.svg\" alt=\"Open In Colab\"/></a>"
      ]
    },
    {
      "cell_type": "markdown",
      "source": [
        "**Ejercicio 1**"
      ],
      "metadata": {
        "id": "xjDSkCzVNIW_"
      }
    },
    {
      "cell_type": "code",
      "source": [
        "A = 9\n",
        "B = 8\n",
        "C = 2\n",
        "\n",
        "print(B * A - B * B / 4 * C)\n",
        "print((A * B) / 3 * 3)\n",
        "print((((B + C) / 2 * A + 10) * 3 * B) - 6)\n",
        "print(40/5*5+6/2*3+4-5*2/10)\n",
        "print(4 / 2 * 3 / 6 + 6 / 2 / 1 / 5 % 2 / 4 * 2)"
      ],
      "metadata": {
        "id": "283GN-V1U3UU"
      },
      "execution_count": null,
      "outputs": []
    },
    {
      "cell_type": "markdown",
      "source": [
        "**Ejercicio 2**"
      ],
      "metadata": {
        "id": "BBDSFidUNjfn"
      }
    },
    {
      "cell_type": "code",
      "source": [
        "suma = 0\n",
        "num = int(input(\"Ingrese un número \"))\n",
        "\n",
        "while num > 0:\n",
        " suma = (num *(num +1))/2\n",
        " break\n",
        "\n",
        "print(\"Número ingresado:\", num)\n",
        "print(\"Suma total:\", suma)"
      ],
      "metadata": {
        "id": "YZFfn-AMHv8k"
      },
      "execution_count": null,
      "outputs": []
    },
    {
      "cell_type": "markdown",
      "source": [
        "**Ejercicio 3**"
      ],
      "metadata": {
        "id": "vHZo2YtLKzqy"
      }
    },
    {
      "cell_type": "code",
      "source": [
        "suma = 0\n",
        "num = int(input(\"Ingrese un número ó 0 para salir \"))\n",
        "while num!=0:\n",
        " suma += num\n",
        " num = int(input(\"Ingrese un número \")) \n",
        " if (num==0):\n",
        "  break\n",
        "print (\"Suma total:\", suma)"
      ],
      "metadata": {
        "id": "X9nn1wEpK6G4"
      },
      "execution_count": null,
      "outputs": []
    },
    {
      "cell_type": "markdown",
      "source": [
        "**Ejercicio 4**"
      ],
      "metadata": {
        "id": "nC8eopiDWNdr"
      }
    },
    {
      "cell_type": "code",
      "source": [
        "suma = 0\n",
        "num = int(input(\"Ingrese un número \"))\n",
        "while num!=0:\n",
        " suma += num \n",
        " if (suma>100):\n",
        "  break \n",
        " num = int(input(\"Ingrese un número \")) \n",
        "print (\"Suma total:\", suma)"
      ],
      "metadata": {
        "id": "pTECTv02N7WF"
      },
      "execution_count": null,
      "outputs": []
    },
    {
      "cell_type": "markdown",
      "source": [
        "**Ejercicio 5**"
      ],
      "metadata": {
        "id": "mwLbUPDqeeNy"
      }
    },
    {
      "cell_type": "code",
      "source": [
        "for num in range(101,199):\n",
        " print (num)"
      ],
      "metadata": {
        "id": "bkebOeFgb1e7"
      },
      "execution_count": null,
      "outputs": []
    },
    {
      "cell_type": "markdown",
      "source": [
        "**Ejercicio 6**"
      ],
      "metadata": {
        "id": "4UpdeCSMuVHA"
      }
    },
    {
      "cell_type": "code",
      "source": [
        "frase = input(\"Ingrese una frase: \")\n",
        "print (\"Vocales en la frase: \")\n",
        "for x in \"aeiou\":\n",
        "  if x in frase:\n",
        "    print(x)"
      ],
      "metadata": {
        "id": "-YkaKsUlb2Au"
      },
      "execution_count": null,
      "outputs": []
    },
    {
      "cell_type": "markdown",
      "source": [
        "**Ejercicio 7**"
      ],
      "metadata": {
        "id": "T4ab8JIExYpy"
      }
    },
    {
      "cell_type": "code",
      "source": [
        "total = 0\n",
        "for i in range(99):\n",
        "    total = total + i\n",
        "print (\"Sumatoria total:\", total)"
      ],
      "metadata": {
        "colab": {
          "base_uri": "https://localhost:8080/"
        },
        "id": "ift1B0hyb2cY",
        "outputId": "7bb29605-d43f-4c5d-fc9f-4c04293bdaaf"
      },
      "execution_count": 34,
      "outputs": [
        {
          "output_type": "stream",
          "name": "stdout",
          "text": [
            "Sumatoria total: 4851\n"
          ]
        }
      ]
    },
    {
      "cell_type": "markdown",
      "source": [
        "**Ejercicio 8**"
      ],
      "metadata": {
        "id": "knU8OXU3b5LE"
      }
    },
    {
      "cell_type": "code",
      "source": [
        "sum_posi = 0\n",
        "cant_posi = 0\n",
        "sum_nega = 0\n",
        "print (\"Ingrese 6 números\")\n",
        "for i in range(6):\n",
        "   nro=int(input(\"Número: \"))\n",
        "   if nro>0:\n",
        "       sum_posi = sum_posi + nro\n",
        "       cant_posi = cant_posi + 1\n",
        "   else:\n",
        "       sum_nega = sum_nega + nro\n",
        "print(\"Sumatoria de los negativos: \", sum_nega)\n",
        "if cant_posi!= 0:\n",
        "   print(\"Promedio de los positivos: \",sum_posi / cant_posi)\n",
        "else:\n",
        "   print(\"No se ingresaron números positivos\")"
      ],
      "metadata": {
        "id": "Tvrb8p4hb9eX"
      },
      "execution_count": null,
      "outputs": []
    },
    {
      "cell_type": "markdown",
      "source": [
        "\n",
        "**Ejercicio 9**"
      ],
      "metadata": {
        "id": "yhulYa0Dn3_6"
      }
    },
    {
      "cell_type": "code",
      "source": [
        "palabra = input(\"Ingrese una palabra: \")\n",
        "for i in range(10):\n",
        "    print (palabra)"
      ],
      "metadata": {
        "id": "455HzXgLb-fk"
      },
      "execution_count": null,
      "outputs": []
    },
    {
      "cell_type": "markdown",
      "source": [
        "**Ejercicio 10**"
      ],
      "metadata": {
        "id": "a8uOsbRipxfA"
      }
    },
    {
      "cell_type": "code",
      "source": [
        "num = int(input(\"Introduzca un número entero positivo: \"))\n",
        "for i in range(num, -1, -1):\n",
        "    print(i, end=\", \")"
      ],
      "metadata": {
        "id": "W_TATDm7b_Dc"
      },
      "execution_count": null,
      "outputs": []
    },
    {
      "cell_type": "markdown",
      "source": [
        "**Ejercicio 11**"
      ],
      "metadata": {
        "id": "HWlXiyrxq4sq"
      }
    },
    {
      "cell_type": "code",
      "source": [
        "num = int(input(\"Ingrese la altura del triángulo, debe ser un número + : \"))\n",
        "for i in range(num):\n",
        "   print(\"*\"*(i+1))"
      ],
      "metadata": {
        "id": "jmwQ5GSxb_ia"
      },
      "execution_count": null,
      "outputs": []
    },
    {
      "cell_type": "markdown",
      "source": [
        "**Ejercicio 12**"
      ],
      "metadata": {
        "id": "8SbHQ9eI_ezB"
      }
    },
    {
      "cell_type": "code",
      "source": [
        "num = int(input(\"Por favor ingrese un número \"))\n",
        "\n",
        "for n in range(10):\n",
        "    print(f\"{n+1}x{num} = {(n+1)*num}\")"
      ],
      "metadata": {
        "id": "chH2im4lcALU"
      },
      "execution_count": null,
      "outputs": []
    },
    {
      "cell_type": "markdown",
      "source": [
        "**Ejercicio 13**"
      ],
      "metadata": {
        "id": "sWPGpAAwXaxu"
      }
    },
    {
      "cell_type": "code",
      "source": [
        "num = int(input(\"Introduce la altura del triángulo (entero positivo): \"))\n",
        "for i in range(1, num+1, 2):\n",
        "    for x in range(i, 0, -2): \n",
        "        print(x, end=\" \") #\n",
        "    print(\"\") "
      ],
      "metadata": {
        "id": "QJmiEOi3cAqD"
      },
      "execution_count": null,
      "outputs": []
    },
    {
      "cell_type": "markdown",
      "source": [
        "**Ejercicio 14**"
      ],
      "metadata": {
        "id": "3Irg7Fp3eqBO"
      }
    },
    {
      "cell_type": "code",
      "source": [
        "contraseña = \"contraseña\"\n",
        "clave = \"\"\n",
        "\n",
        "while clave != contraseña:\n",
        "    print(\"Ingrese su contraseña: \")\n",
        "    clave = input(\">> \")\n",
        "\n",
        "print(\"Contraseña ingresada correctamente\")"
      ],
      "metadata": {
        "id": "T79laTWLcBav"
      },
      "execution_count": null,
      "outputs": []
    }
  ]
}