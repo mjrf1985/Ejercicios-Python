{
  "nbformat": 4,
  "nbformat_minor": 0,
  "metadata": {
    "colab": {
      "name": "Ejercicios.ipynb",
      "provenance": [],
      "authorship_tag": "ABX9TyMHij+gQ/YXjzQBGqITgvDY",
      "include_colab_link": true
    },
    "kernelspec": {
      "name": "python3",
      "display_name": "Python 3"
    },
    "language_info": {
      "name": "python"
    }
  },
  "cells": [
    {
      "cell_type": "markdown",
      "metadata": {
        "id": "view-in-github",
        "colab_type": "text"
      },
      "source": [
        "<a href=\"https://colab.research.google.com/github/mjrf1985/Ejercicios-Python/blob/main/Ejercicios.ipynb\" target=\"_parent\"><img src=\"https://colab.research.google.com/assets/colab-badge.svg\" alt=\"Open In Colab\"/></a>"
      ]
    },
    {
      "cell_type": "markdown",
      "source": [
        "**Ejercicio 1**"
      ],
      "metadata": {
        "id": "xjDSkCzVNIW_"
      }
    },
    {
      "cell_type": "code",
      "execution_count": null,
      "metadata": {
        "id": "8SfugjZYMBAc"
      },
      "outputs": [],
      "source": [
        "print(\"hola, ¿Cual es tu nombre y apellido?\")\n",
        "nombre = input()\n",
        "print(\"Hola\", nombre, \"Bienvenido\")"
      ]
    },
    {
      "cell_type": "markdown",
      "source": [
        "**Ejercicio 2**"
      ],
      "metadata": {
        "id": "BBDSFidUNjfn"
      }
    },
    {
      "cell_type": "code",
      "source": [
        "entero = 5\n",
        "flotante = 5.5\n",
        "cadena = (\"Progra3\")\n",
        "a = 4\n",
        "b = 2\n",
        "\n",
        "print(entero, flotante, cadena)\n",
        "\n",
        "if a or b < 0:\n",
        "  print (\"a y b, son mayores a 0\")\n",
        "else:\n",
        "  print(\"0\")\n",
        "\n",
        "type(entero)\n",
        "type(flotante)\n"
      ],
      "metadata": {
        "id": "scZi-5D-NtQF"
      },
      "execution_count": null,
      "outputs": []
    },
    {
      "cell_type": "markdown",
      "source": [
        "**Ejercicio 3**"
      ],
      "metadata": {
        "id": "Pa4ZRK6PUvUg"
      }
    },
    {
      "cell_type": "code",
      "source": [
        "A = 9\n",
        "B = 3\n",
        "\n",
        "print(A + B)\n",
        "print(B - A)\n",
        "print(A / B)\n",
        "print(A ** B)"
      ],
      "metadata": {
        "id": "283GN-V1U3UU"
      },
      "execution_count": null,
      "outputs": []
    },
    {
      "cell_type": "markdown",
      "source": [
        "**Ejercicio 4**"
      ],
      "metadata": {
        "id": "nC8eopiDWNdr"
      }
    },
    {
      "cell_type": "code",
      "source": [
        "c = int(input(\"Ingrese la temperatura en grados Centigrados: \"))\n",
        "\n",
        "print((c * 1.8) +32, \"Grados Fahrenheit\") "
      ],
      "metadata": {
        "colab": {
          "base_uri": "https://localhost:8080/"
        },
        "id": "Dc0_MLCXWSjI",
        "outputId": "2c6d8fdb-8aeb-42af-a8b1-14a71de8d386"
      },
      "execution_count": null,
      "outputs": [
        {
          "output_type": "stream",
          "name": "stdout",
          "text": [
            "Ingrese la temperatura en grados Centigrados: 9\n",
            "48.2 Grados Fahrenheit\n"
          ]
        }
      ]
    },
    {
      "cell_type": "markdown",
      "source": [
        "**Ejercicio 5**"
      ],
      "metadata": {
        "id": "mwLbUPDqeeNy"
      }
    },
    {
      "cell_type": "code",
      "source": [
        "p = float(input(\"Ingrese el diametro del circulo: \"))\n",
        "\n",
        "print(\"El perimetro del circulo es:\", \"{:.2f}\".format  (p * 3.1415,\"cm\"))"
      ],
      "metadata": {
        "colab": {
          "base_uri": "https://localhost:8080/"
        },
        "id": "qdPNUp6Beu8c",
        "outputId": "c2b355fd-8e57-442b-e240-cf7c3226e5c9"
      },
      "execution_count": null,
      "outputs": [
        {
          "output_type": "stream",
          "name": "stdout",
          "text": [
            "Ingrese el diametro del circulo: 9\n",
            "El perimetro del circulo es: 28.27\n"
          ]
        }
      ]
    },
    {
      "cell_type": "markdown",
      "source": [
        "**Ejercicio 6**"
      ],
      "metadata": {
        "id": "4UpdeCSMuVHA"
      }
    },
    {
      "cell_type": "code",
      "source": [
        "f = float(input(\"Ingrese el valor en pies: \"))\n",
        "\n",
        "print(\"{:.2f}\".format (f * 12))"
      ],
      "metadata": {
        "colab": {
          "base_uri": "https://localhost:8080/"
        },
        "id": "gMCKijeLuZVS",
        "outputId": "5ca67207-f059-4479-a7ce-ac52fee76591"
      },
      "execution_count": null,
      "outputs": [
        {
          "output_type": "stream",
          "name": "stdout",
          "text": [
            "Ingrese el valor en pies: 9.5678\n",
            "114.81\n"
          ]
        }
      ]
    },
    {
      "cell_type": "markdown",
      "source": [
        "**Ejercicio 7**"
      ],
      "metadata": {
        "id": "T4ab8JIExYpy"
      }
    },
    {
      "cell_type": "code",
      "source": [
        "producto = input(\"Ingrese el producto que compra: \")\n",
        "precio = float(input(\"Ingrese el valor del producto: \"))\n",
        "\n",
        "cuota1 = (precio / 3)\n",
        "cuota2 = (precio / 6)\n",
        "cuota3 = (precio / 12)\n",
        "cuota4 = (precio / 18)\n",
        "\n",
        "if precio < 600:\n",
        "    print(\"Monto de la cuota mesual:\" , \"{:.2f}\".format (cuota1))\n",
        "    print(\"Total a pagar con interes del 2.3% mensual:\" , (cuota1 * 0.023) + cuota1)\n",
        "\n",
        "if precio <= 700 and precio >= 600 :\n",
        "    print(\"Monto de la cuota mesual:\" , \"{:.2f}\".format (cuota2))\n",
        "    print(\"Total a pagar con interes del 3.5% mensual:\" , (cuota2 * 0.035) + cuota2)\n",
        "\n",
        "if precio >700 and precio <= 800 :\n",
        "    print(\"Monto de la cuota mesual:\" , \"{:.2f}\".format (cuota3))\n",
        "    print(\"Total a pagar con interes del 7.2% mensual:\" , (cuota3 * 0.072) + cuota3) \n",
        "\n",
        "if precio >800:\n",
        "    print(\"Monto de la cuota mesual:\" , \"{:.2f}\".format (cuota4))\n",
        "    print(\"Total a pagar con interes del 8.1% mensual:\" , (cuota4 * 0.072) + cuota4)\n",
        "    print(\"Gracias por Visitarnos\")\n",
        "else:\n",
        "  print(\"Gracias por Visitarnos\")\n",
        "\n",
        "\n"
      ],
      "metadata": {
        "id": "-rwwNznnxcbF"
      },
      "execution_count": null,
      "outputs": []
    },
    {
      "cell_type": "markdown",
      "source": [
        "\n",
        "**Ejercicio 9**"
      ],
      "metadata": {
        "id": "yhulYa0Dn3_6"
      }
    },
    {
      "cell_type": "code",
      "source": [
        ""
      ],
      "metadata": {
        "id": "HpJvF0z3n79c"
      },
      "execution_count": null,
      "outputs": []
    },
    {
      "cell_type": "markdown",
      "source": [
        "**Ejercicio 10**"
      ],
      "metadata": {
        "id": "a8uOsbRipxfA"
      }
    },
    {
      "cell_type": "code",
      "source": [
        "list = [35,50]\n",
        "\n",
        "print(\"El valor mayor es:\", max(list))"
      ],
      "metadata": {
        "colab": {
          "base_uri": "https://localhost:8080/"
        },
        "id": "G-zadrihp2lP",
        "outputId": "1cba8fe5-2850-4881-b9a2-e40811163c24"
      },
      "execution_count": null,
      "outputs": [
        {
          "output_type": "stream",
          "name": "stdout",
          "text": [
            "El valor mayor es: 50\n"
          ]
        }
      ]
    },
    {
      "cell_type": "markdown",
      "source": [
        "**Ejercicio 11**"
      ],
      "metadata": {
        "id": "HWlXiyrxq4sq"
      }
    },
    {
      "cell_type": "code",
      "source": [
        "numero = int(input(\"ingresa un número: \"))\n",
        "\n",
        "if numero / 2 == 0:\n",
        "  print(\"El número\", numero , \"es par\")\n",
        "else:\n",
        "  print(\"El número\", numero , \"es impar\")"
      ],
      "metadata": {
        "colab": {
          "base_uri": "https://localhost:8080/"
        },
        "id": "EmAFm46Nq64I",
        "outputId": "71ee297c-1453-4444-ee90-22cfe2ed01ef"
      },
      "execution_count": null,
      "outputs": [
        {
          "output_type": "stream",
          "name": "stdout",
          "text": [
            "ingresa un número: 88\n",
            "El número 88 es impar\n"
          ]
        }
      ]
    },
    {
      "cell_type": "markdown",
      "source": [
        "**Ejercicio 12**"
      ],
      "metadata": {
        "id": "8SbHQ9eI_ezB"
      }
    },
    {
      "cell_type": "code",
      "source": [
        "edad = int(input(\"Ingrese su edad: \"))\n",
        "\n",
        "if edad > 16 :\n",
        "  print(\"Gracias por venir al cine\")\n",
        "  \n",
        "  if edad >= 16 and edad <= 18 :\n",
        "    print(\"puede ingresar a la clasificacíon B\")\n",
        "  \n",
        "  if edad > 18 and edad <= 21 :\n",
        "    print(\"puede ingresar a la clasificacíon C\")\n",
        "\n",
        "  if edad >= 22:\n",
        "    print(\"puede ingresar a la clasificación D\")\n",
        "else:\n",
        "  print(\"Ud no tiene edad para ingresar al cine \")\n"
      ],
      "metadata": {
        "id": "Yb68x-KF_g4A"
      },
      "execution_count": null,
      "outputs": []
    },
    {
      "cell_type": "markdown",
      "source": [
        "**Ejercicio 13**"
      ],
      "metadata": {
        "id": "sWPGpAAwXaxu"
      }
    },
    {
      "cell_type": "code",
      "source": [
        "numero = 1\n",
        "while numero <= 10:\n",
        "  print(numero)\n",
        "  numero = numero + 1"
      ],
      "metadata": {
        "id": "bTsZZ082XoHD"
      },
      "execution_count": null,
      "outputs": []
    },
    {
      "cell_type": "markdown",
      "source": [
        "**Ejercicio 14**"
      ],
      "metadata": {
        "id": "3Irg7Fp3eqBO"
      }
    },
    {
      "cell_type": "code",
      "source": [
        "numero = int(input(\"Ingrese un número \"))\n",
        "\n",
        "for i in range (1,11):\n",
        "  resultado = i * numero\n",
        "  print((\"%d x %d = %d\") % (numero, i, resultado))\n"
      ],
      "metadata": {
        "id": "LXnJG6LMewQI"
      },
      "execution_count": null,
      "outputs": []
    },
    {
      "cell_type": "markdown",
      "source": [
        "**Ejercicio 15**"
      ],
      "metadata": {
        "id": "gj999KArni8V"
      }
    },
    {
      "cell_type": "code",
      "source": [
        "cajas = int(input(\"Ingrese la cantidad de cajas: \"))\n",
        "\n",
        "if cajas >= 51 :\n",
        "  print(\"Tiene descuento\")\n",
        "  \n",
        "  if cajas >= 51 and cajas <= 100 :\n",
        "    print(\"Aplica descuento del 3%\")\n",
        "  \n",
        "  if cajas > 100 and cajas <= 499 :\n",
        "    print(\"Aplica descuento del 5%\")\n",
        "\n",
        "  if cajas >= 500:\n",
        "    print(\"Aplica descuento del 7.75%\")\n",
        "else:\n",
        "  print(\"No aplica para descuento\")\n"
      ],
      "metadata": {
        "id": "yEysrnutniXj"
      },
      "execution_count": null,
      "outputs": []
    },
    {
      "cell_type": "markdown",
      "source": [
        "**Ejercicio 16**"
      ],
      "metadata": {
        "id": "xvxyRLFjpg1-"
      }
    },
    {
      "cell_type": "code",
      "source": [
        "numeros = int(input(\"Ingrese el número hasta donde desea sumar: \"))\n",
        "b = 0\n",
        "\n",
        "for i in range (1, numeros+1):\n",
        "  print(i)\n",
        "  b = b + i\n",
        "print(\"La suma de los números es:\", b)"
      ],
      "metadata": {
        "id": "1pbkBPhqpl-I"
      },
      "execution_count": null,
      "outputs": []
    },
    {
      "cell_type": "markdown",
      "source": [
        "**Ejercicio 17**"
      ],
      "metadata": {
        "id": "6skIp5oKtthn"
      }
    },
    {
      "cell_type": "code",
      "source": [
        "numeros = 1\n",
        "while numeros <= 100:\n",
        "  if numeros % 2 == 0:\n",
        "    print(numeros)\n",
        "  numeros = numeros + 1"
      ],
      "metadata": {
        "id": "9mBgg2AVt5u2"
      },
      "execution_count": null,
      "outputs": []
    },
    {
      "cell_type": "markdown",
      "source": [
        "**Ejercicio 18**"
      ],
      "metadata": {
        "id": "Ci-cAK9Wwtit"
      }
    },
    {
      "cell_type": "code",
      "source": [
        "numeros = int(input(\"Ingrese el número hasta donde desea sumar: \"))\n",
        "total = 0\n",
        "impares = []\n",
        "\n",
        "for i in range (0, numeros + 1):\n",
        "  if i % 2 == 1:\n",
        "    impares.append(i)\n",
        "    total += i\n",
        "print(\"Los números impares son:\", impares)\n",
        "print(\"La suma de los números impares es:\", total)"
      ],
      "metadata": {
        "id": "ERQWPyjiwvpu"
      },
      "execution_count": null,
      "outputs": []
    },
    {
      "cell_type": "markdown",
      "source": [
        "**Ejercicio 19**"
      ],
      "metadata": {
        "id": "BhrmMbXF6p4H"
      }
    },
    {
      "cell_type": "code",
      "source": [
        "def suma_digi(numeros):\n",
        "  s = 0\n",
        "  while numeros > 0:\n",
        "    s = s + numeros % 10\n",
        "    numeros = numeros // 10\n",
        "  return s\n",
        "\n",
        "n = int(input(\"Cantidad de números que desea sumar: \"))\n",
        "suma_total = 0\n",
        "while n > 0:\n",
        "  numeros = int(input(\"Número: \"))\n",
        "  suma_total = suma_total + suma_digi(numeros)\n",
        "  n = n - 1\n",
        "print(\"Suma total de los números ingresados\", suma_total)\n"
      ],
      "metadata": {
        "id": "LHqOgT5s6ttg"
      },
      "execution_count": null,
      "outputs": []
    },
    {
      "cell_type": "markdown",
      "source": [
        "**Ejercicio 20**"
      ],
      "metadata": {
        "id": "KorWZYevkYSZ"
      }
    },
    {
      "cell_type": "code",
      "source": [
        "numero = int(input(\"Ingrese un número entre 120 y 400: \"))\n",
        "import sys\n",
        "\n",
        "if numero == 0 :\n",
        "  sys.exit(\"Programa finalizado\")\n",
        "if numero >= 120 and numero <= 400 :\n",
        "  print(\"El número ingresado es correcto\")\n",
        "else:\n",
        "  print(\"Debe ingresar un número entre 120 y 400\")\n"
      ],
      "metadata": {
        "id": "4B2V6skbkkjj"
      },
      "execution_count": null,
      "outputs": []
    },
    {
      "cell_type": "markdown",
      "source": [
        "**Ejercicio 21** incompleto :("
      ],
      "metadata": {
        "id": "BButX0C7kc84"
      }
    },
    {
      "cell_type": "code",
      "source": [
        "palabra = input(\"Ingrese una palabra: \")\n",
        "numero = int(input(\"Ingrese el número de veces que se repetirá la palabra: \"))\n"
      ],
      "metadata": {
        "id": "kcm2c84iklCI"
      },
      "execution_count": null,
      "outputs": []
    },
    {
      "cell_type": "markdown",
      "source": [
        "**Ejercicio 22**"
      ],
      "metadata": {
        "id": "eEFL1fETkh1j"
      }
    },
    {
      "cell_type": "code",
      "source": [
        "a = int(input(\"Ingrese el primer número: \"))\n",
        "b = int(input(\"Ingrese el segundo número: \"))\n",
        "menu = int(input(\"Elija una opción: \\n 1- Sumar \\n 2- Restar \\n 3- Multiplicar \\n 4- Dividir \\n\"))\n",
        "\n",
        "if menu == 1:\n",
        "  print(\"El resultado es:\", a + b)\n",
        "elif menu == 2:\n",
        "  print(\"El resultado es:\", a - b)\n",
        "elif menu == 3:\n",
        "  print(\"El resultado es:\", a * b)\n",
        "elif menu == 4:\n",
        "  print(\"El resultado es:\", a / b)\n",
        "else:\n",
        "  print(\"ingrese un dato valido\")"
      ],
      "metadata": {
        "colab": {
          "base_uri": "https://localhost:8080/"
        },
        "id": "s1dCbYEtklpY",
        "outputId": "d21415c8-5c03-43d9-975e-6812ec0fc773"
      },
      "execution_count": 59,
      "outputs": [
        {
          "output_type": "stream",
          "name": "stdout",
          "text": [
            "Ingrese el primer número: 4\n",
            "Ingrese el segundo número: 2\n",
            "Elija una opción: \n",
            " 1- Sumar \n",
            " 2- Restar \n",
            " 3- Multiplicar \n",
            " 4- Dividir \n",
            "4\n",
            "El resultado es: 2.0\n"
          ]
        }
      ]
    }
  ]
}